{
 "cells": [
  {
   "cell_type": "markdown",
   "metadata": {},
   "source": [
    "# ggplot2 - Labels And Annotations\n",
    "\n",
    "## Labels\n",
    "In ggplot2, we use the labs function to modify labels.  By labels, I’m including labeling the X and Y axis, creating subtitles and titles, creating captions, and the header for a legend.\n",
    "\n",
    "Let’s start with an image that we’ve already seen before:"
   ]
  },
  {
   "cell_type": "code",
   "execution_count": null,
   "metadata": {
    "collapsed": true
   },
   "outputs": [],
   "source": [
    "if(!require(tidyverse)) {\n",
    "  install.packages(\"tidyverse\", repos = \"http://cran.us.r-project.org\")\n",
    "  library(tidyverse)\n",
    "}\n",
    " \n",
    "if(!require(gapminder)) {\n",
    "  install.packages(\"gapminder\", repos = \"http://cran.us.r-project.org\")\n",
    "  library(gapminder)\n",
    "}\n",
    " \n",
    "ggplot(data = gapminder, mapping = aes(x = gdpPercap, y = lifeExp)) +\n",
    "  geom_point(alpha = 0.5, mapping = aes(color = continent)) +\n",
    "  scale_x_log10(label = scales::dollar) +\n",
    "  scale_color_brewer(type = \"qual\", palette = \"Dark2\") +\n",
    "  geom_smooth(method = \"lm\", se = FALSE)"
   ]
  },
  {
   "cell_type": "markdown",
   "metadata": {},
   "source": [
    "I don’t like having “lifeExp” and “gdpPercap” be the X and Y axis labels.  I guess the term “continent” is okay but I’d prefer it be capitalized.  We should also create a title so people know what this visual represents, and I’d like to reference that the source is the gapminder data set.  We can do pretty much all of this in one extra function call."
   ]
  },
  {
   "cell_type": "code",
   "execution_count": null,
   "metadata": {
    "collapsed": true
   },
   "outputs": [],
   "source": [
    "ggplot(data = gapminder, mapping = aes(x = gdpPercap, y = lifeExp)) +\n",
    "  geom_point(alpha = 0.5, mapping = aes(color = continent)) +\n",
    "  scale_color_brewer(type = \"qual\", palette = \"Dark2\") +\n",
    "  geom_smooth(method = \"lm\", se = FALSE) +\n",
    "  scale_x_log10(label = scales::dollar) +\n",
    "  labs(\n",
    "    x = \"GDP (PPP, normalized to 2005 USD)\",\n",
    "    y = \"Mean Life Expectancy\",\n",
    "    title = \"Wealth And Longevity\",\n",
    "    subtitle = \"Charting the relationship between a country's prosperity and its residents' life expectancy.\",\n",
    "    caption = \"Source:  Gapminder data set, 2010\",\n",
    "    color = \"Continent\"\n",
    "  )"
   ]
  },
  {
   "cell_type": "markdown",
   "metadata": {},
   "source": [
    "And just like that, we have a nicer-looking visual.\n",
    "\n",
    "So what else can we do?  If you set x = NULL or y = NULL, then the  X or Y axis, respectively, will no longer have a label.  This makes sense when laying out a bar or column chart, like our chart of data by continent:"
   ]
  },
  {
   "cell_type": "code",
   "execution_count": null,
   "metadata": {
    "collapsed": true
   },
   "outputs": [],
   "source": [
    "lifeExp_by_continent_1952 <- gapminder %>%\n",
    "  filter(year == 1952) %>%\n",
    "  group_by(continent) %>%\n",
    "  summarize(avg_lifeExp = mean(lifeExp)) %>%\n",
    "  select(continent, avg_lifeExp)\n",
    "\n",
    "ggplot(data = lifeExp_by_continent_1952, mapping = aes(x = reorder(continent, avg_lifeExp), y = avg_lifeExp)) +\n",
    "  geom_col() +\n",
    "  labs(\n",
    "    x = NULL,\n",
    "    y = \"Mean Life Expectancy\"\n",
    "  )"
   ]
  },
  {
   "cell_type": "markdown",
   "metadata": {},
   "source": [
    "It’s clear that we’re showing continents, so I do not need to tell you that.  I also changed the Y axis label to be something better than “avg_lifeExp.”\n",
    "\n",
    "There isn’t much else that you can do with the label itself.  There’s plenty you can do with themes, and we’ll cover that in detail in an upcoming post.  But at least we now have the ability to create nicer-looking labels.  Now let’s look at annotations.\n",
    "\n",
    "## Annotations\n",
    "Annotations are useful for marking out important comments in your visual.  For example, going back to our wealth and longevity chart, there was a group of Asian countries with extremely high GDP but relatively low average life expectancy.  I’d like to call out that section of the visual and will use an annotation to do so.  To do this, I use the `annotate()` function.  In this case, I’m going to create a text annotation as well as a rectangle annotation so you can see exactly the points I mean."
   ]
  },
  {
   "cell_type": "code",
   "execution_count": null,
   "metadata": {
    "collapsed": true
   },
   "outputs": [],
   "source": [
    "ggplot(data = gapminder, mapping = aes(x = gdpPercap, y = lifeExp)) +\n",
    "  geom_point(alpha = 0.5, mapping = aes(color = continent)) +\n",
    "  scale_color_brewer(type = \"qual\", palette = \"Dark2\") +\n",
    "  geom_smooth(method = \"lm\", se = FALSE) +\n",
    "  scale_x_log10(label = scales::dollar) +\n",
    "  labs(\n",
    "    x = \"GDP (PPP, normalized to 2005 USD)\",\n",
    "    y = \"Mean Life Expectancy\",\n",
    "    title = \"Wealth And Longevity\",\n",
    "    subtitle = \"Charting the relationship between a country's prosperity and its residents' life expectancy.\",\n",
    "    caption = \"Source:  Gapminder data set, 2010\",\n",
    "    color = \"Continent\"\n",
    "  ) +\n",
    "  annotate(\n",
    "    geom = \"text\",\n",
    "    x = 85000,\n",
    "    y = 48.3,\n",
    "    label = \"High-GDP countries with\\nunexpectedly low mean\\nlife expectancy.\",\n",
    "    size = 3.5\n",
    "  ) +\n",
    "  annotate(\n",
    "    geom = \"rect\",\n",
    "    xmin = 75000,\n",
    "    xmax = 130000,\n",
    "    ymin = 53,\n",
    "    ymax = 70,\n",
    "    alpha = 0.2\n",
    "  )"
   ]
  },
  {
   "cell_type": "markdown",
   "metadata": {},
   "source": [
    "We’ve added about 15 lines of code (because I’m keeping things nice and readable for the annotations) but it’s still just two function calls.  Also, notice that the text geom uses x and y parameters, whereas the rectangle uses xmin+xmax and ymin+ymax.  Finally, I want to point out that the x and y values are at the same scale as on our graph—it’s not pixels over or anything weird like that.\n",
    "\n",
    "## More Geoms:  Text, HLine, VLine\n",
    "I skipped four geometric objects early on:  text, rect, hline, and vline.  The reason I skipped them is because they fit better here, with labeling and annotating data.  We can use the text geom to write text onto our visual,  rect will let us draw a rectangle, and the hline and vline geoms will draw horizontal and vertical lines, respectively.  In this post, I’m going to look at a variant on text, as well as horizontal and vertical lines.  I’ll skip the `geom_rect`, but it behaves similarly to other geoms that we’ve seen so far.\n",
    "\n",
    "So let’s start with the text geom.  What if I want to label each country in that high-GDP range above?  I could go look it up manually and annotate each point, but that’s a brittle solution which really only works on this chart and this data (sort of like my annotation…).  For something a little more robust, let’s use `geom_text`.  Specifically, I’m going to use `geom_text_repel()`, which is a function that comes with ggrepel.  The ggrepel package is an addon for ggplot2 which figures out ways to add text onto a graph without overlap.  Visuals with overlapping text look amateur, and we’re trying to avoid looking more amateur than we already do…\n",
    "\n",
    "Specifically, I want to show the name of each country in the red box, but I only want to name each country once, and I want to put the label somewhere near the point with the highest life expectancy within that block.  To do that, I’m going to use `geom_text_repel` but I also need to build up a data set with the distinct countries in that range."
   ]
  },
  {
   "cell_type": "code",
   "execution_count": null,
   "metadata": {
    "collapsed": true
   },
   "outputs": [],
   "source": [
    "if(!require(ggrepel)) {\n",
    "  install.packages(\"ggrepel\", repos = \"http://cran.us.r-project.org\")\n",
    "  library(ggrepel)\n",
    "}\n",
    " \n",
    "oddities <- gapminder %>%\n",
    "  filter(gdpPercap > 75000 & lifeExp < 70) %>%\n",
    "  group_by(country) %>%\n",
    "  summarize(maxLifeExp = max(lifeExp)) %>%\n",
    "  inner_join(gapminder, by = c(\"country\" = \"country\", \"maxLifeExp\" = \"lifeExp\"))\n",
    " \n",
    "ggplot(data = gapminder, mapping = aes(x = gdpPercap, y = lifeExp)) +\n",
    "  geom_point(alpha = 0.5, mapping = aes(color = continent)) +\n",
    "  scale_color_brewer(type = \"qual\", palette = \"Dark2\") +\n",
    "  geom_smooth(method = \"lm\", se = FALSE) +\n",
    "  scale_x_log10(label = scales::dollar) +\n",
    "  labs(\n",
    "    x = \"GDP (PPP, normalized to 2005 USD)\",\n",
    "    y = \"Mean Life Expectancy\",\n",
    "    title = \"Wealth And Longevity\",\n",
    "    subtitle = \"Charting the relationship between a country's prosperity and its residents' life expectancy.\",\n",
    "    caption = \"Source:  Gapminder data set, 2010\",\n",
    "    color = \"Continent\"\n",
    "  ) +\n",
    "  annotate(\n",
    "    geom = \"text\",\n",
    "    x = 85000,\n",
    "    y = 48.3,\n",
    "    label = \"High-GDP countries with\\nunexpectedly low mean\\nlife expectancy.\",\n",
    "    size = 3.5\n",
    "  ) +\n",
    "  annotate(\n",
    "    geom = \"rect\",\n",
    "    xmin = 75000,\n",
    "    xmax = 130000,\n",
    "    ymin = 53,\n",
    "    ymax = 70,\n",
    "    fill = \"Red\",\n",
    "    alpha = 0.2\n",
    "  ) +\n",
    "  geom_text_repel(\n",
    "    data = oddities,\n",
    "    mapping = aes(x = gdpPercap, y = maxLifeExp, label = country),\n",
    "    size = 2.3, segment.color = NA, nudge_x = 0\n",
    "  )"
   ]
  },
  {
   "cell_type": "markdown",
   "metadata": {},
   "source": [
    "We’re getting more and more code, but our visual is also a bit more complex.  The first bit, after installing/loading ggrepel, is to build up the data frame of odd countries.  It turns out that there’s just one odd country in this set:  Kuwait, which had extremely high GDP from the 1950s through 1970s, but low life expectancy.  Kuwait is a special case in this data set for a couple of reasons:  their population was extremely low in the 1950s and there was limited ownership of the sole interesting resource in the country.  The first factor means that the mean GDP (which is our per capita calculation) is through the roof; the second factor means that most people were not direct recipients of that benefit.\n",
    "\n",
    "Regardless of the explanation, we now have annotations and labels for those extreme outliers.\n",
    "\n",
    "We can also draw vertical and horizontal lines on the graph using the `geom_vline` and `geom_line` functions, respectively."
   ]
  },
  {
   "cell_type": "code",
   "execution_count": null,
   "metadata": {
    "collapsed": true
   },
   "outputs": [],
   "source": [
    "ggplot(data = gapminder, mapping = aes(x = gdpPercap, y = lifeExp)) +\n",
    "  geom_point(alpha = 0.5, mapping = aes(color = continent)) +\n",
    "  scale_color_brewer(type = \"qual\", palette = \"Dark2\") +\n",
    "  geom_smooth(method = \"lm\", se = FALSE) +\n",
    "  scale_x_log10(label = scales::dollar) +\n",
    "  labs(\n",
    "    x = \"GDP (PPP, normalized to 2005 USD)\",\n",
    "    y = \"Mean Life Expectancy\",\n",
    "    title = \"Wealth And Longevity\",\n",
    "    subtitle = \"Charting the relationship between a country's prosperity and its residents' life expectancy.\",\n",
    "    caption = \"Source:  Gapminder data set, 2010\",\n",
    "    color = \"Continent\"\n",
    "  ) +\n",
    "  annotate(\n",
    "    geom = \"text\",\n",
    "    x = 85000,\n",
    "    y = 48.3,\n",
    "    label = \"High-GDP countries with\\nunexpectedly low mean\\nlife expectancy.\",\n",
    "    size = 3.5\n",
    "  ) +\n",
    "  annotate(\n",
    "    geom = \"rect\",\n",
    "    xmin = 75000,\n",
    "    xmax = 130000,\n",
    "    ymin = 53,\n",
    "    ymax = 70,\n",
    "    fill = \"Red\",\n",
    "    alpha = 0.2\n",
    "  ) +\n",
    "  geom_text_repel(\n",
    "    data = oddities,\n",
    "    mapping = aes(x = gdpPercap, y = maxLifeExp, label = country),\n",
    "    size = 2.3, segment.color = NA, nudge_x = 0\n",
    "  ) +\n",
    "  geom_vline(xintercept = 35000, color = \"red\", linetype = \"dotdash\") +\n",
    "  geom_hline(yintercept = 75, color = \"brown\", linetype = \"twodash\")"
   ]
  },
  {
   "cell_type": "markdown",
   "metadata": {},
   "source": [
    "In this case, I decided to show off a few features of hline and vline, filling in the color and linetype parameters.  Those are not required and have sensible defaults of black and solid, respectively.  You can also make the lines thicker by setting the size parameter to something greater than 1, but this is already garish enough.  Horizontal and vertical lines can be useful, particularly in time series data.  For example, let’s go back to the datetime example we had in a previous post.  Suppose that we have a set of data but also a separate data frame with days where something interesting happened.  We can annotate those interesting things  on our plot pretty easily:"
   ]
  },
  {
   "cell_type": "code",
   "execution_count": null,
   "metadata": {
    "collapsed": true
   },
   "outputs": [],
   "source": [
    "time_frame <- Sys.Date() - 0:31\n",
    "df <- data.frame(\n",
    "  date = time_frame,\n",
    "  price = runif(32)\n",
    ")\n",
    "annotations <- data.frame(\n",
    "  date = c(Sys.Date() - 24, Sys.Date() - 3),\n",
    "  remark = c(\"Problem reported\", \"False alarm reported\")\n",
    ")\n",
    " \n",
    "ggplot(df, aes(date, price)) +\n",
    "  geom_line() +\n",
    "  scale_x_date(date_breaks = \"8 days\", date_minor_breaks = \"2 day\") +\n",
    "  geom_vline(xintercept = as.numeric(annotations$date), color = \"Red\", linetype = \"dotdash\") +\n",
    "  geom_text(\n",
    "    data = annotations,\n",
    "    mapping = aes(x = date, y = 0, label = remark),\n",
    "    color = \"Red\"\n",
    "  )"
   ]
  },
  {
   "cell_type": "markdown",
   "metadata": {},
   "source": [
    "In this case, we had two separate incidents occur, one a problem and one a false alarm.  We plotted a vertical line at the appropriate date and also wrote out the remark text.  Note that to map the date, I needed to call the `as.numeric` function to transform the date into a number.  That’s a little weird but understandable when you figure that you’re trying to plot on a Cartesian space and that means real numbers rather than dates.\n",
    "\n",
    "## Conclusion\n",
    "In this notebook, we looked at using labels and annotations to spruce up visuals.  We saw how to create a visual with proper labels, a title, and even a caption with our data source.  We also learned how to draw text on a plot, annotate sections of a plot, and draw horizontal and vertical lines.\n",
    "\n",
    "In the next notebook, we will look at how to use themes and legends to make our images look nicer."
   ]
  },
  {
   "cell_type": "code",
   "execution_count": null,
   "metadata": {
    "collapsed": true
   },
   "outputs": [],
   "source": []
  }
 ],
 "metadata": {
  "kernelspec": {
   "display_name": "R",
   "language": "R",
   "name": "ir"
  },
  "language_info": {
   "codemirror_mode": "r",
   "file_extension": ".r",
   "mimetype": "text/x-r-source",
   "name": "R",
   "pygments_lexer": "r",
   "version": "3.3.2"
  }
 },
 "nbformat": 4,
 "nbformat_minor": 2
}

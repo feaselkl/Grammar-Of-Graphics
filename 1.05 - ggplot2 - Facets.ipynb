{
 "cells": [
  {
   "cell_type": "markdown",
   "metadata": {},
   "source": [
    "# ggplot2 - Facets\n",
    "\n",
    "Up to this point, we’ve looked at single graphs.  But sometimes, a single graph can get a little too complicated for us.  Let’s go back to our gapminder data set showing data by continent:"
   ]
  },
  {
   "cell_type": "code",
   "execution_count": null,
   "metadata": {
    "collapsed": true,
    "scrolled": false
   },
   "outputs": [],
   "source": [
    "if(!require(tidyverse)) {\n",
    "  install.packages(\"tidyverse\", repos = \"http://cran.us.r-project.org\")\n",
    "  library(tidyverse)\n",
    "}\n",
    " \n",
    "if(!require(gapminder)) {\n",
    "  install.packages(\"gapminder\", repos = \"http://cran.us.r-project.org\")\n",
    "  library(gapminder)\n",
    "}\n",
    "\n",
    "if(!require(ggrepel)) {\n",
    "  install.packages(\"ggrepel\", repos = \"http://cran.us.r-project.org\")\n",
    "  library(ggrepel)\n",
    "}\n",
    " \n",
    "if(!require(ggthemes)) {\n",
    "  install.packages(\"ggthemes\", repos = \"http://cran.us.r-project.org\")\n",
    "  library(ggthemes)\n",
    "}"
   ]
  },
  {
   "cell_type": "code",
   "execution_count": null,
   "metadata": {
    "collapsed": true,
    "scrolled": false
   },
   "outputs": [],
   "source": [
    "if(!require(extrafont)) {\n",
    "  install.packages(\"extrafont\", repos = \"http://cran.us.r-project.org\")\n",
    "  library(extrafont)\n",
    "}\n",
    "\n",
    "if(.Platform$OS.type == \"windows\") {\n",
    "    loadfonts(device=\"win\")\n",
    "} else {\n",
    "    loadfonts()\n",
    "}"
   ]
  },
  {
   "cell_type": "code",
   "execution_count": null,
   "metadata": {
    "collapsed": true,
    "scrolled": false
   },
   "outputs": [],
   "source": [
    "oddities <- gapminder %>%\n",
    "filter(gdpPercap > 75000 & lifeExp < 70) %>%\n",
    "group_by(country) %>%\n",
    "summarize(maxLifeExp = max(lifeExp)) %>%\n",
    "inner_join(gapminder, by = c(\"country\" = \"country\", \"maxLifeExp\" = \"lifeExp\"))\n",
    "\n",
    "ggplot(data = gapminder, mapping = aes(x = gdpPercap, y = lifeExp)) +\n",
    "    geom_point(alpha = 0.5, mapping = aes(color = continent)) +\n",
    "    scale_color_brewer(type = \"qual\", palette = \"Dark2\") +\n",
    "    geom_smooth(method = \"lm\", se = FALSE, color = \"#777777\") +\n",
    "    scale_x_log10(label = scales::dollar) +\n",
    "    theme_minimal() +\n",
    "    labs(\n",
    "        x = \"GDP (PPP, normalized to 2005 USD)\",\n",
    "        y = NULL,\n",
    "        title = \"Wealth And Longevity\",\n",
    "        subtitle = \"Charting the relationship between a country's prosperity and its residents' life expectancy.\",\n",
    "        caption = \"Source:  Gapminder data set, 2010\",\n",
    "        color = \"Continent\"\n",
    "    ) +\n",
    "    annotate(\n",
    "        geom = \"text\",\n",
    "        x = 85000,\n",
    "        y = 48.3,\n",
    "        label = \"High-GDP countries with\\nunexpectedly low mean\\nlife expectancy.\",\n",
    "        size = 3.5,\n",
    "        family = \"Gill Sans MT\"\n",
    "    ) +\n",
    "    annotate(\n",
    "        geom = \"rect\",\n",
    "        xmin = 75000,\n",
    "        xmax = 130000,\n",
    "        ymin = 53,\n",
    "        ymax = 70,\n",
    "        fill = \"Red\",\n",
    "        alpha = 0.2\n",
    "    ) +\n",
    "    geom_text_repel(\n",
    "        data = oddities,\n",
    "        mapping = aes(x = gdpPercap, y = maxLifeExp, label = country),\n",
    "        size = 3, segment.color = NA, nudge_x = 0, family = \"Gill Sans MT\"\n",
    "    ) +\n",
    "    guides(color = guide_legend(title = \"Continent:\")) +\n",
    "    theme(\n",
    "        legend.position = \"bottom\",\n",
    "        text = element_text(family = \"Gill Sans MT\"),\n",
    "        plot.title = element_text(size = 20),\n",
    "        plot.subtitle = element_text(size = 12),\n",
    "        plot.caption = element_text(size = 9),\n",
    "        legend.title = element_text(size = 9),\n",
    "        axis.title = element_text(size = 10)\n",
    "    )"
   ]
  },
  {
   "cell_type": "markdown",
   "metadata": {},
   "source": [
    "I’d like to see if these relationships hold within the five different continents.  I can easily change the R code to give me five smoothed lines, one per continent:"
   ]
  },
  {
   "cell_type": "code",
   "execution_count": null,
   "metadata": {
    "collapsed": true,
    "scrolled": false
   },
   "outputs": [],
   "source": [
    "ggplot(data = gapminder, mapping = aes(x = gdpPercap, y = lifeExp)) +\n",
    "    geom_point(alpha = 0.5, mapping = aes(color = continent)) +\n",
    "    geom_smooth(method = \"lm\", se = FALSE, mapping = aes(color = continent)) +\n",
    "    scale_color_brewer(type = \"qual\", palette = \"Dark2\") +\n",
    "    scale_x_log10(label = scales::dollar) +\n",
    "    theme_minimal() +\n",
    "    labs(\n",
    "        x = \"GDP (PPP, normalized to 2005 USD)\",\n",
    "        y = NULL,\n",
    "        title = \"Wealth And Longevity\",\n",
    "        subtitle = \"Charting the relationship between a country's prosperity and its residents' life expectancy.\",\n",
    "        caption = \"Source:  Gapminder data set, 2010\",\n",
    "        color = \"Continent\"\n",
    "    ) +\n",
    "    guides(color = guide_legend(title = \"Continent:\")) +\n",
    "    theme(\n",
    "        legend.position = \"bottom\",\n",
    "        text = element_text(family = \"Gill Sans MT\"),\n",
    "        plot.title = element_text(size = 20),\n",
    "        plot.subtitle = element_text(size = 12),\n",
    "        plot.caption = element_text(size = 9),\n",
    "        legend.title = element_text(size = 9),\n",
    "        axis.title = element_text(size = 10)\n",
    "    )"
   ]
  },
  {
   "cell_type": "markdown",
   "metadata": {},
   "source": [
    "That’s pretty ugly.  How about instead, we show each as a separate plot?  We could write the R code to show each individually, but then we’d need to know about each category.  Instead, let’s use the facet functionality in ggplot:  `facet_wrap()` and `facet_grid()`.\n",
    "\n",
    "## Facet Wrap\n",
    "The `facet_wrap()` function wraps one grid after another after another.  Because we’re only displaying two variables per scatter plot (we are no longer showing continent), we can remove the separate colors and go back to a single, consistent color for each graph."
   ]
  },
  {
   "cell_type": "code",
   "execution_count": null,
   "metadata": {
    "collapsed": true,
    "scrolled": false
   },
   "outputs": [],
   "source": [
    "ggplot(data = gapminder, mapping = aes(x = gdpPercap, y = lifeExp)) +\n",
    "    geom_point(alpha = 0.5) +\n",
    "    geom_smooth(method = \"lm\", se = FALSE) +\n",
    "    scale_x_log10(label = scales::dollar) +\n",
    "    theme_minimal() +\n",
    "    labs(\n",
    "        x = \"GDP (PPP, normalized to 2005 USD)\",\n",
    "        y = NULL,\n",
    "        title = \"Wealth And Longevity\",\n",
    "        subtitle = \"Charting the relationship between a country's prosperity and its residents' life expectancy.\",\n",
    "        caption = \"Source:  Gapminder data set, 2010\",\n",
    "        color = \"Continent\"\n",
    "    ) +\n",
    "    guides(color = guide_legend(title = \"Continent:\")) +\n",
    "    theme(\n",
    "        text = element_text(family = \"Gill Sans MT\"),\n",
    "        plot.title = element_text(size = 20),\n",
    "        plot.subtitle = element_text(size = 12),\n",
    "        plot.caption = element_text(size = 9),\n",
    "        legend.title = element_text(size = 9),\n",
    "        axis.title = element_text(size = 10)\n",
    "    ) +\n",
    "    facet_wrap(facets = ~continent, ncol = 3)"
   ]
  },
  {
   "cell_type": "markdown",
   "metadata": {},
   "source": [
    "Notice that we create a graph per continent by setting `facets = ~continent`.  The tilde there is important—it’s a one-sided formula.  You could also write `c(\"continent\")` if that’s clearer to you.\n",
    "\n",
    "I also set the number of columns, guaranteeing that we see no more than 3 columns of grids. I could alternatively set `nrow`, which would guarantee we see no more than a certain number of rows.\n",
    "\n",
    "There are a couple other interesting features in facet_wrap. First, we can set `scales = \"free\"` if we want to draw each grid as if the others did not exist. By default, we use a scale of “fixed” to ensure that everything plots on the same scale. I prefer that for this exercise because it lets us more easily see those continental clusters.\n",
    "\n",
    "## Facet Grid\n",
    "The `facet_grid()` function builds a matrix of panels.  Unlike `facet_wrap()`, there is no `ncol` or `nrow` parameter. Instead, we have the ability to define the left-hand or right-hand side of an equation to populate the grids."
   ]
  },
  {
   "cell_type": "code",
   "execution_count": null,
   "metadata": {
    "collapsed": true,
    "scrolled": false
   },
   "outputs": [],
   "source": [
    "ggplot(data = gapminder, mapping = aes(x = gdpPercap, y = lifeExp)) +\n",
    "    geom_point(alpha = 0.5) +\n",
    "    scale_x_log10(label = scales::dollar) +\n",
    "    theme_minimal() +\n",
    "    labs(\n",
    "        x = \"GDP (PPP, normalized to 2005 USD)\",\n",
    "        y = NULL,\n",
    "        title = \"Wealth And Longevity\",\n",
    "        subtitle = \"Charting the relationship between a country's prosperity and its residents' life expectancy.\",\n",
    "        caption = \"Source:  Gapminder data set, 2010\",\n",
    "        color = \"Continent\"\n",
    "    ) +\n",
    "    guides(color = guide_legend(title = \"Continent:\")) +\n",
    "    theme(\n",
    "        text = element_text(family = \"Gill Sans MT\"),\n",
    "        plot.title = element_text(size = 20),\n",
    "        plot.subtitle = element_text(size = 12),\n",
    "        plot.caption = element_text(size = 9),\n",
    "        legend.title = element_text(size = 9),\n",
    "        axis.title = element_text(size = 10)\n",
    "    ) +\n",
    "    facet_grid(facets = continent~.)"
   ]
  },
  {
   "cell_type": "markdown",
   "metadata": {},
   "source": [
    "Note that I took the smoothed line off in this case. That way, we can more easily see the data points and not the line. I’ve got one variable of interest on the left-hand side—that is, one variable which defines the rows of this grid. Because the right-hand side is “everything else,” we can share the X axis for all of these grids. This particular setup lets us contrast PPP GDP by continent fairly easily."
   ]
  },
  {
   "cell_type": "code",
   "execution_count": null,
   "metadata": {
    "collapsed": true,
    "scrolled": false
   },
   "outputs": [],
   "source": [
    "ggplot(data = gapminder, mapping = aes(x = gdpPercap, y = lifeExp)) +\n",
    "    geom_point(alpha = 0.5) +\n",
    "    scale_x_log10(label = scales::dollar) +\n",
    "    theme_minimal() +\n",
    "    labs(\n",
    "        x = \"GDP (PPP, normalized to 2005 USD)\",\n",
    "        y = NULL,\n",
    "        title = \"Wealth And Longevity\",\n",
    "        subtitle = \"Charting the relationship between a country's prosperity and its residents' life expectancy.\",\n",
    "        caption = \"Source:  Gapminder data set, 2010\",\n",
    "        color = \"Continent\"\n",
    "    ) +\n",
    "    guides(color = guide_legend(title = \"Continent:\")) +\n",
    "    theme(\n",
    "        text = element_text(family = \"Gill Sans MT\"),\n",
    "        plot.title = element_text(size = 20),\n",
    "        plot.subtitle = element_text(size = 12),\n",
    "        plot.caption = element_text(size = 9),\n",
    "        legend.title = element_text(size = 9),\n",
    "        axis.title = element_text(size = 10)\n",
    "    ) +\n",
    "    facet_grid(facets = .~continent)"
   ]
  },
  {
   "cell_type": "markdown",
   "metadata": {},
   "source": [
    "And here’s what happens when I put continent on the right-hand side. Now we have a shared Y axis, letting us see relative life expectancy clusters by continent.\n",
    "\n",
    "So what happens if we define both sides? Then we start building out our grid:"
   ]
  },
  {
   "cell_type": "code",
   "execution_count": null,
   "metadata": {
    "collapsed": true,
    "scrolled": false
   },
   "outputs": [],
   "source": [
    "ggplot(data = filter(gapminder, year %in% c(1982, 2007)), mapping = aes(x = gdpPercap, y = lifeExp)) +\n",
    "    geom_point(alpha = 0.5) +\n",
    "    scale_x_log10(label = scales::dollar) +\n",
    "    theme_minimal() +\n",
    "    labs(\n",
    "        x = \"GDP (PPP, normalized to 2005 USD)\",\n",
    "        y = NULL,\n",
    "        title = \"Wealth And Longevity\",\n",
    "        subtitle = \"Charting the relationship between a country's prosperity and its residents' life expectancy.\",\n",
    "        caption = \"Source:  Gapminder data set, 2010\",\n",
    "        color = \"Continent\"\n",
    "    ) +\n",
    "    guides(color = guide_legend(title = \"Continent:\")) +\n",
    "    theme(\n",
    "        text = element_text(family = \"Gill Sans MT\"),\n",
    "        plot.title = element_text(size = 20),\n",
    "        plot.subtitle = element_text(size = 12),\n",
    "        plot.caption = element_text(size = 9),\n",
    "        legend.title = element_text(size = 9),\n",
    "        axis.title = element_text(size = 10)\n",
    "    ) +\n",
    "    facet_grid(facets = year~continent)"
   ]
  },
  {
   "cell_type": "markdown",
   "metadata": {},
   "source": [
    "In this example, I am looking at the years 1982 and 2007 and comparing life expectancy to income per continent—that is, four separate variables in one plot. It’s getting a bit too busy on this chart, but we can make out some trends, like a big boost in life expectancy across the board, but particularly in Asia.\n",
    "\n",
    "## Conclusion\n",
    "Faceting is one way to introduce one or more “extra” variables into a plot.  By breaking data out into multiple, connected plots, we can make relationships clearer.  Doing so runs the risk of information overload, however:  if I try to fit 20 or 30 graphs on the same page, I’m probably going to be doing more confusing than elucidating.\n",
    "\n",
    "In the next notebook, we will look at another way of arranging graphs using an external library."
   ]
  },
  {
   "cell_type": "code",
   "execution_count": null,
   "metadata": {
    "collapsed": true,
    "scrolled": false
   },
   "outputs": [],
   "source": []
  }
 ],
 "metadata": {
  "kernelspec": {
   "display_name": "R",
   "language": "R",
   "name": "ir"
  },
  "language_info": {
   "codemirror_mode": "r",
   "file_extension": ".r",
   "mimetype": "text/x-r-source",
   "name": "R",
   "pygments_lexer": "r",
   "version": "3.5.1"
  }
 },
 "nbformat": 4,
 "nbformat_minor": 2
}
